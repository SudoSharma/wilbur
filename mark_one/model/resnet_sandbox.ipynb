{
 "cells": [
  {
   "cell_type": "markdown",
   "metadata": {},
   "source": [
    "## Sandox for Developing Resnet\n",
    "Notes, ideas, and general approach to building Resnet from the ground up."
   ]
  },
  {
   "cell_type": "markdown",
   "metadata": {},
   "source": [
    "## General Approach"
   ]
  },
  {
   "cell_type": "markdown",
   "metadata": {},
   "source": [
    "fastai for data handling and training, pytorch for architecure. \n",
    "\n",
    "1. Use fast.ai for downloading data / preprocessing / loading / augmentations etc.\n",
    "- Unroll and practice NN building and training loops\n",
    "- Create a basic neural network to run through MNIST using pytorch\n",
    "- Create a better neural network with multiple layers and convolutions in pytorch\n",
    "- Download CIFAR\n",
    "- Create VGG\n",
    "- Create ResNet\n",
    "- Create wide ResNet\n",
    "- figure out how to use performance improvements from fastai pillo\n",
    "- Download COCO\n",
    "- Try training only on COCO\n",
    "- Try training on CIFAR, then COCO\n",
    "- Try making final Detectron Wide Resnet using  \n",
    "- pretrain on imagenet, then COCO \n",
    "- Clean up and put into module for use as backbone retinanet\n",
    "- Do a short write up of experience"
   ]
  },
  {
   "cell_type": "code",
   "execution_count": 3,
   "metadata": {},
   "outputs": [],
   "source": [
    "%reload_ext autoreload\n",
    "%autoreload 2\n",
    "%matplotlib inline"
   ]
  },
  {
   "cell_type": "code",
   "execution_count": 4,
   "metadata": {},
   "outputs": [],
   "source": [
    "from fastai.vision import *\n",
    "from fastai.datasets import *\n",
    "from fastai.callbacks import *\n",
    "from dataclasses import dataclass"
   ]
  },
  {
   "cell_type": "markdown",
   "metadata": {},
   "source": [
    "## MNIST"
   ]
  },
  {
   "cell_type": "code",
   "execution_count": 42,
   "metadata": {},
   "outputs": [
    {
     "data": {
      "text/plain": [
       "[PosixPath('/home/sudosharma/.fastai/data/mnist_sample/labels.csv'),\n",
       " PosixPath('/home/sudosharma/.fastai/data/mnist_sample/models'),\n",
       " PosixPath('/home/sudosharma/.fastai/data/mnist_sample/train'),\n",
       " PosixPath('/home/sudosharma/.fastai/data/mnist_sample/valid')]"
      ]
     },
     "execution_count": 42,
     "metadata": {},
     "output_type": "execute_result"
    }
   ],
   "source": [
    "path = untar_data(URLs.MNIST_SAMPLE)\n",
    "path.ls()"
   ]
  },
  {
   "cell_type": "code",
   "execution_count": 43,
   "metadata": {},
   "outputs": [
    {
     "data": {
      "image/png": "[encoded data removed]",
      "text/plain": [
       "<Figure size 288x288 with 9 Axes>"
      ]
     },
     "metadata": {
      "needs_background": "light"
     },
     "output_type": "display_data"
    }
   ],
   "source": [
    "data = ImageDataBunch.from_folder(path)\n",
    "data.show_batch(rows=3, figsize=(4, 4))"
   ]
  },
  {
   "cell_type": "markdown",
   "metadata": {},
   "source": [
    "## NN v1"
   ]
  },
  {
   "cell_type": "code",
   "execution_count": 6,
   "metadata": {},
   "outputs": [
    {
     "data": {
      "text/html": [
       "Total time: 00:01 <p><table border=\"1\" class=\"dataframe\">\n",
       "  <thead>\n",
       "    <tr style=\"text-align: left;\">\n",
       "      <th>epoch</th>\n",
       "      <th>train_loss</th>\n",
       "      <th>valid_loss</th>\n",
       "      <th>accuracy</th>\n",
       "      <th>time</th>\n",
       "    </tr>\n",
       "  </thead>\n",
       "  <tbody>\n",
       "    <tr>\n",
       "      <td>1</td>\n",
       "      <td>0.133678</td>\n",
       "      <td>0.106639</td>\n",
       "      <td>0.964181</td>\n",
       "      <td>00:01</td>\n",
       "    </tr>\n",
       "  </tbody>\n",
       "</table>"
      ],
      "text/plain": [
       "<IPython.core.display.HTML object>"
      ]
     },
     "metadata": {},
     "output_type": "display_data"
    }
   ],
   "source": [
    "model = simple_cnn((3, 16, 16, 2))\n",
    "learn = Learner(data, model, metrics=accuracy)\n",
    "learn.fit(1)"
   ]
  },
  {
   "cell_type": "markdown",
   "metadata": {},
   "source": [
    "## NN v2"
   ]
  },
  {
   "cell_type": "code",
   "execution_count": 7,
   "metadata": {},
   "outputs": [
    {
     "data": {
      "text/html": [
       "Total time: 00:06 <p><table border=\"1\" class=\"dataframe\">\n",
       "  <thead>\n",
       "    <tr style=\"text-align: left;\">\n",
       "      <th>epoch</th>\n",
       "      <th>train_loss</th>\n",
       "      <th>valid_loss</th>\n",
       "      <th>accuracy</th>\n",
       "      <th>time</th>\n",
       "    </tr>\n",
       "  </thead>\n",
       "  <tbody>\n",
       "    <tr>\n",
       "      <td>1</td>\n",
       "      <td>0.146359</td>\n",
       "      <td>0.093797</td>\n",
       "      <td>0.969087</td>\n",
       "      <td>00:06</td>\n",
       "    </tr>\n",
       "  </tbody>\n",
       "</table>"
      ],
      "text/plain": [
       "<IPython.core.display.HTML object>"
      ]
     },
     "metadata": {},
     "output_type": "display_data"
    }
   ],
   "source": [
    "model = models.resnet50\n",
    "learn = create_cnn(data, model, metrics=accuracy)\n",
    "learn.fit(1)"
   ]
  },
  {
   "cell_type": "markdown",
   "metadata": {},
   "source": [
    "## NN v3"
   ]
  },
  {
   "cell_type": "code",
   "execution_count": 7,
   "metadata": {},
   "outputs": [],
   "source": [
    "@dataclass\n",
    "class PrintOutput(LearnerCallback):\n",
    "    \"\"\"Function to figure out if fastai is modifying final tensor before loss_func.\"\"\"\n",
    "    learn: Learner\n",
    "\n",
    "    def on_loss_begin(self, **kwargs):\n",
    "        if kwargs['num_batch'] == 1: print(kwargs['last_output'].shape)\n",
    "        return kwargs['last_output']\n",
    "\n",
    "    \n",
    "class Flatten(nn.Module):\n",
    "    def forward(self, x):\n",
    "        return x.view(x.shape[0], -1)"
   ]
  },
  {
   "cell_type": "code",
   "execution_count": 8,
   "metadata": {},
   "outputs": [
    {
     "data": {
      "text/html": [
       "Total time: 00:01 <p><table border=\"1\" class=\"dataframe\">\n",
       "  <thead>\n",
       "    <tr style=\"text-align: left;\">\n",
       "      <th>epoch</th>\n",
       "      <th>train_loss</th>\n",
       "      <th>valid_loss</th>\n",
       "      <th>accuracy</th>\n",
       "      <th>time</th>\n",
       "    </tr>\n",
       "  </thead>\n",
       "  <tbody>\n",
       "    <tr>\n",
       "      <td>1</td>\n",
       "      <td>0.056079</td>\n",
       "      <td>0.093036</td>\n",
       "      <td>0.973503</td>\n",
       "      <td>00:01</td>\n",
       "    </tr>\n",
       "  </tbody>\n",
       "</table>"
      ],
      "text/plain": [
       "<IPython.core.display.HTML object>"
      ]
     },
     "metadata": {},
     "output_type": "display_data"
    },
    {
     "name": "stdout",
     "output_type": "stream",
     "text": [
      "torch.Size([64, 50])\n"
     ]
    }
   ],
   "source": [
    "model = nn.Sequential(\n",
    "    Flatten(),\n",
    "    nn.Linear(3*28*28, 50), nn.ReLU(True),\n",
    "    nn.Linear(50, 50)\n",
    ")\n",
    "learn = Learner(data, model, metrics=accuracy)\n",
    "cb = PrintOutput(learn)\n",
    "learn.fit(1, callbacks=[cb])"
   ]
  },
  {
   "cell_type": "markdown",
   "metadata": {},
   "source": [
    "## NN v4"
   ]
  },
  {
   "cell_type": "code",
   "execution_count": 9,
   "metadata": {},
   "outputs": [
    {
     "data": {
      "text/html": [
       "Total time: 00:02 <p><table border=\"1\" class=\"dataframe\">\n",
       "  <thead>\n",
       "    <tr style=\"text-align: left;\">\n",
       "      <th>epoch</th>\n",
       "      <th>train_loss</th>\n",
       "      <th>valid_loss</th>\n",
       "      <th>accuracy</th>\n",
       "      <th>time</th>\n",
       "    </tr>\n",
       "  </thead>\n",
       "  <tbody>\n",
       "    <tr>\n",
       "      <td>1</td>\n",
       "      <td>0.122984</td>\n",
       "      <td>0.076745</td>\n",
       "      <td>0.974485</td>\n",
       "      <td>00:02</td>\n",
       "    </tr>\n",
       "  </tbody>\n",
       "</table>"
      ],
      "text/plain": [
       "<IPython.core.display.HTML object>"
      ]
     },
     "metadata": {},
     "output_type": "display_data"
    }
   ],
   "source": [
    "model = nn.Sequential(\n",
    "    nn.Conv2d(3, 256, 3, 1), nn.ReLU(True),\n",
    "    nn.Conv2d(256, 128, 3, 1), nn.ReLU(True),\n",
    "    nn.Conv2d(128, 64, 3, 1), nn.ReLU(True),\n",
    "    nn.AdaptiveMaxPool2d(1),\n",
    "    Flatten())\n",
    "learn = Learner(data, model, metrics=accuracy)\n",
    "learn.fit(1)"
   ]
  },
  {
   "cell_type": "markdown",
   "metadata": {},
   "source": [
    "## NN v5"
   ]
  },
  {
   "cell_type": "code",
   "execution_count": 13,
   "metadata": {},
   "outputs": [],
   "source": [
    "??nn.Conv2d"
   ]
  },
  {
   "cell_type": "code",
   "execution_count": 14,
   "metadata": {},
   "outputs": [],
   "source": [
    "def conv(ic, oc, k=3, s=1, actn=False):\n",
    "    \"\"\"A conv layer module.\"\"\"\n",
    "    layers = [nn.Conv2d(ic, oc, k, stride=s, padding=k//2)]\n",
    "    if actn: layers.append(nn.ReLU(True))\n",
    "    return nn.Sequential(*layers)\n",
    "\n",
    "\n",
    "class SimpleCNN(nn.Module):\n",
    "    \"\"\"A convnet block using module list approach.\"\"\"\n",
    "    def __init__(self, *cs):\n",
    "        super().__init__()\n",
    "        self.layers = nn.ModuleList(\n",
    "            [conv(cs[i], cs[i+1], actn=True) for i in range(len(cs)-1)])\n",
    "        self.layers.extend([nn.AdaptiveMaxPool2d(1), Flatten()])\n",
    "        \n",
    "    def forward(self, x):\n",
    "        for l in self.layers:\n",
    "            x = l(x)\n",
    "        return x"
   ]
  },
  {
   "cell_type": "code",
   "execution_count": 11,
   "metadata": {},
   "outputs": [
    {
     "data": {
      "text/html": [
       "Total time: 00:02 <p><table border=\"1\" class=\"dataframe\">\n",
       "  <thead>\n",
       "    <tr style=\"text-align: left;\">\n",
       "      <th>epoch</th>\n",
       "      <th>train_loss</th>\n",
       "      <th>valid_loss</th>\n",
       "      <th>accuracy</th>\n",
       "      <th>time</th>\n",
       "    </tr>\n",
       "  </thead>\n",
       "  <tbody>\n",
       "    <tr>\n",
       "      <td>1</td>\n",
       "      <td>0.102602</td>\n",
       "      <td>0.102861</td>\n",
       "      <td>0.963690</td>\n",
       "      <td>00:02</td>\n",
       "    </tr>\n",
       "  </tbody>\n",
       "</table>"
      ],
      "text/plain": [
       "<IPython.core.display.HTML object>"
      ]
     },
     "metadata": {},
     "output_type": "display_data"
    }
   ],
   "source": [
    "model = SimpleCNN(3, 256, 128, 64)\n",
    "learn = Learner(data, model, metrics=accuracy)\n",
    "learn.fit(1)"
   ]
  },
  {
   "cell_type": "markdown",
   "metadata": {},
   "source": [
    "\n",
    "## CIFAR-10"
   ]
  },
  {
   "cell_type": "code",
   "execution_count": 44,
   "metadata": {},
   "outputs": [
    {
     "data": {
      "text/plain": [
       "[PosixPath('/home/sudosharma/.fastai/data/cifar10/models'),\n",
       " PosixPath('/home/sudosharma/.fastai/data/cifar10/test'),\n",
       " PosixPath('/home/sudosharma/.fastai/data/cifar10/labels.txt'),\n",
       " PosixPath('/home/sudosharma/.fastai/data/cifar10/train')]"
      ]
     },
     "execution_count": 44,
     "metadata": {},
     "output_type": "execute_result"
    }
   ],
   "source": [
    "path = untar_data(URLs.CIFAR)\n",
    "path.ls()"
   ]
  },
  {
   "cell_type": "code",
   "execution_count": 45,
   "metadata": {},
   "outputs": [
    {
     "data": {
      "image/png": "[encoded data removed]",
      "text/plain": [
       "<Figure size 432x432 with 9 Axes>"
      ]
     },
     "metadata": {
      "needs_background": "light"
     },
     "output_type": "display_data"
    }
   ],
   "source": [
    "tfms = get_transforms(\n",
    "    max_rotate=None, \n",
    "    max_zoom=1.0,  \n",
    "    max_warp=None, \n",
    "    p_affine=0, \n",
    "    xtra_tfms=[rand_crop()])\n",
    "\n",
    "data = (ImageList.from_folder(path)\n",
    "        .split_by_folder(valid='test')\n",
    "        .label_from_folder()\n",
    "        .transform(tfms)\n",
    "        .databunch(bs=256)\n",
    "        .normalize(cifar_stats))\n",
    "\n",
    "data.show_batch(3, figsize=(6, 6))"
   ]
  },
  {
   "cell_type": "markdown",
   "metadata": {},
   "source": [
    "## NN v6 (VGG19)"
   ]
  },
  {
   "cell_type": "code",
   "execution_count": 5,
   "metadata": {},
   "outputs": [],
   "source": [
    "class ConvBlock(nn.Module):\n",
    "    \"\"\"A conv block with pooling and 'n' convs.\"\"\"\n",
    "    def __init__(self, ic, oc, l, actn=True, pool=None):\n",
    "        super().__init__()\n",
    "        self.layers = nn.ModuleList([conv(ic, oc, actn=actn)])\n",
    "        self.layers.extend(conv(oc, oc, actn=actn) for _ in range(l-1))\n",
    "        if pool == 'max':\n",
    "            self.layers.append(nn.MaxPool2d(2, stride=2))\n",
    "        elif pool == 'avg':\n",
    "            self.layers.append(nn.AvgPool2d(2, stride=2))\n",
    "        \n",
    "    def forward(self, x):\n",
    "        for l in self.layers:\n",
    "            x = l(x)\n",
    "        return x\n",
    "                           \n",
    "        \n",
    "class VGG_19(nn.Module):\n",
    "    \"\"\"A VGG implementation.\"\"\"\n",
    "    def __init__(self, actn=True, pool='max'):\n",
    "        super().__init__()\n",
    "        self.layers = nn.Sequential(\n",
    "            ConvBlock(3, 64, 2, actn=actn, pool=pool),\n",
    "            ConvBlock(64, 128, 2, actn=actn, pool=pool),\n",
    "            ConvBlock(128, 256, 4, actn=actn, pool=pool),\n",
    "            ConvBlock(256, 512, 4, actn=actn, pool=pool),\n",
    "            ConvBlock(512, 512, 4, actn=actn, pool=pool),\n",
    "            Flatten(),\n",
    "            nn.Linear(512, 4096),\n",
    "            nn.Dropout(0.5, inplace=True),\n",
    "            nn.ReLU(True),\n",
    "            nn.Linear(4096, 4096),\n",
    "            nn.Dropout(0.5, inplace=True),\n",
    "            nn.ReLU(True),\n",
    "            nn.Linear(4096, 10))\n",
    "    \n",
    "    def forward(self, x):\n",
    "        return self.layers(x)\n",
    "    \n",
    "\n",
    "def fit_lrs(learn, lr_epochs, wd=None, save='improvement'):\n",
    "    \"\"\"Fits learner with training phases, and saving functionality.\"\"\"\n",
    "    phases = [TrainingPhase(len(data.train_dl)*e, lr, moms=0.9) for e, lr in lr_epochs]\n",
    "    sched = GeneralScheduler(learn, phases)\n",
    "    learn.callbacks.append(sched)\n",
    "    total_epochs = sum(e for e, _ in lr_epochs)\n",
    "    learn.fit(\n",
    "        total_epochs, \n",
    "        wd=wd, \n",
    "        callbacks=[SaveModelCallback(learn, every=save, monitor='accuracy', name='vgg19')])\n",
    "    return learn"
   ]
  },
  {
   "cell_type": "code",
   "execution_count": 64,
   "metadata": {},
   "outputs": [
    {
     "data": {
      "text/html": [],
      "text/plain": [
       "<IPython.core.display.HTML object>"
      ]
     },
     "metadata": {},
     "output_type": "display_data"
    },
    {
     "name": "stdout",
     "output_type": "stream",
     "text": [
      "LR Finder is complete, type {learner_name}.recorder.plot() to see the graph.\n"
     ]
    },
    {
     "data": {
      "image/png": "[encoded data removed]",
      "text/plain": [
       "<Figure size 432x288 with 1 Axes>"
      ]
     },
     "metadata": {
      "needs_background": "light"
     },
     "output_type": "display_data"
    }
   ],
   "source": [
    "model = VGG_19()\n",
    "learn = Learner(data, model, metrics=accuracy, opt_func=torch.optim.SGD, loss_func=F.cross_entropy)\n",
    "learn.init(nn.init.xavier_uniform_)\n",
    "learn.lr_find()\n",
    "learn.recorder.plot()"
   ]
  },
  {
   "cell_type": "code",
   "execution_count": 65,
   "metadata": {
    "scrolled": true
   },
   "outputs": [
    {
     "data": {
      "text/html": [
       "Total time: 13:54 <p><table border=\"1\" class=\"dataframe\">\n",
       "  <thead>\n",
       "    <tr style=\"text-align: left;\">\n",
       "      <th>epoch</th>\n",
       "      <th>train_loss</th>\n",
       "      <th>valid_loss</th>\n",
       "      <th>accuracy</th>\n",
       "      <th>time</th>\n",
       "    </tr>\n",
       "  </thead>\n",
       "  <tbody>\n",
       "    <tr>\n",
       "      <td>1</td>\n",
       "      <td>2.302583</td>\n",
       "      <td>2.302568</td>\n",
       "      <td>0.128900</td>\n",
       "      <td>00:10</td>\n",
       "    </tr>\n",
       "    <tr>\n",
       "      <td>2</td>\n",
       "      <td>2.302564</td>\n",
       "      <td>2.302546</td>\n",
       "      <td>0.125600</td>\n",
       "      <td>00:10</td>\n",
       "    </tr>\n",
       "    <tr>\n",
       "      <td>3</td>\n",
       "      <td>2.302545</td>\n",
       "      <td>2.302526</td>\n",
       "      <td>0.117300</td>\n",
       "      <td>00:10</td>\n",
       "    </tr>\n",
       "    <tr>\n",
       "      <td>4</td>\n",
       "      <td>2.302526</td>\n",
       "      <td>2.302509</td>\n",
       "      <td>0.109800</td>\n",
       "      <td>00:10</td>\n",
       "    </tr>\n",
       "    <tr>\n",
       "      <td>5</td>\n",
       "      <td>2.302511</td>\n",
       "      <td>2.302496</td>\n",
       "      <td>0.126500</td>\n",
       "      <td>00:10</td>\n",
       "    </tr>\n",
       "    <tr>\n",
       "      <td>6</td>\n",
       "      <td>2.302836</td>\n",
       "      <td>2.302704</td>\n",
       "      <td>0.100000</td>\n",
       "      <td>00:10</td>\n",
       "    </tr>\n",
       "    <tr>\n",
       "      <td>7</td>\n",
       "      <td>2.302740</td>\n",
       "      <td>2.302520</td>\n",
       "      <td>0.100000</td>\n",
       "      <td>00:10</td>\n",
       "    </tr>\n",
       "    <tr>\n",
       "      <td>8</td>\n",
       "      <td>2.302511</td>\n",
       "      <td>2.302220</td>\n",
       "      <td>0.100000</td>\n",
       "      <td>00:10</td>\n",
       "    </tr>\n",
       "    <tr>\n",
       "      <td>9</td>\n",
       "      <td>2.300013</td>\n",
       "      <td>2.296085</td>\n",
       "      <td>0.149400</td>\n",
       "      <td>00:10</td>\n",
       "    </tr>\n",
       "    <tr>\n",
       "      <td>10</td>\n",
       "      <td>2.095595</td>\n",
       "      <td>1.972867</td>\n",
       "      <td>0.211000</td>\n",
       "      <td>00:11</td>\n",
       "    </tr>\n",
       "    <tr>\n",
       "      <td>11</td>\n",
       "      <td>1.913432</td>\n",
       "      <td>1.856637</td>\n",
       "      <td>0.231900</td>\n",
       "      <td>00:11</td>\n",
       "    </tr>\n",
       "    <tr>\n",
       "      <td>12</td>\n",
       "      <td>1.840532</td>\n",
       "      <td>1.788762</td>\n",
       "      <td>0.279900</td>\n",
       "      <td>00:10</td>\n",
       "    </tr>\n",
       "    <tr>\n",
       "      <td>13</td>\n",
       "      <td>1.727490</td>\n",
       "      <td>1.799627</td>\n",
       "      <td>0.318300</td>\n",
       "      <td>00:10</td>\n",
       "    </tr>\n",
       "    <tr>\n",
       "      <td>14</td>\n",
       "      <td>1.632767</td>\n",
       "      <td>1.578699</td>\n",
       "      <td>0.375600</td>\n",
       "      <td>00:10</td>\n",
       "    </tr>\n",
       "    <tr>\n",
       "      <td>15</td>\n",
       "      <td>1.520508</td>\n",
       "      <td>1.422710</td>\n",
       "      <td>0.427700</td>\n",
       "      <td>00:10</td>\n",
       "    </tr>\n",
       "    <tr>\n",
       "      <td>16</td>\n",
       "      <td>1.433866</td>\n",
       "      <td>1.383578</td>\n",
       "      <td>0.460700</td>\n",
       "      <td>00:10</td>\n",
       "    </tr>\n",
       "    <tr>\n",
       "      <td>17</td>\n",
       "      <td>1.313407</td>\n",
       "      <td>1.365207</td>\n",
       "      <td>0.499000</td>\n",
       "      <td>00:11</td>\n",
       "    </tr>\n",
       "    <tr>\n",
       "      <td>18</td>\n",
       "      <td>1.203530</td>\n",
       "      <td>1.148891</td>\n",
       "      <td>0.582700</td>\n",
       "      <td>00:10</td>\n",
       "    </tr>\n",
       "    <tr>\n",
       "      <td>19</td>\n",
       "      <td>1.071885</td>\n",
       "      <td>0.996782</td>\n",
       "      <td>0.637200</td>\n",
       "      <td>00:10</td>\n",
       "    </tr>\n",
       "    <tr>\n",
       "      <td>20</td>\n",
       "      <td>0.963178</td>\n",
       "      <td>0.926524</td>\n",
       "      <td>0.674300</td>\n",
       "      <td>00:11</td>\n",
       "    </tr>\n",
       "    <tr>\n",
       "      <td>21</td>\n",
       "      <td>0.883720</td>\n",
       "      <td>0.904359</td>\n",
       "      <td>0.687200</td>\n",
       "      <td>00:10</td>\n",
       "    </tr>\n",
       "    <tr>\n",
       "      <td>22</td>\n",
       "      <td>0.835368</td>\n",
       "      <td>0.899084</td>\n",
       "      <td>0.697600</td>\n",
       "      <td>00:10</td>\n",
       "    </tr>\n",
       "    <tr>\n",
       "      <td>23</td>\n",
       "      <td>0.726459</td>\n",
       "      <td>0.720455</td>\n",
       "      <td>0.760800</td>\n",
       "      <td>00:10</td>\n",
       "    </tr>\n",
       "    <tr>\n",
       "      <td>24</td>\n",
       "      <td>0.661756</td>\n",
       "      <td>0.704979</td>\n",
       "      <td>0.762000</td>\n",
       "      <td>00:10</td>\n",
       "    </tr>\n",
       "    <tr>\n",
       "      <td>25</td>\n",
       "      <td>0.597811</td>\n",
       "      <td>0.701446</td>\n",
       "      <td>0.760900</td>\n",
       "      <td>00:11</td>\n",
       "    </tr>\n",
       "    <tr>\n",
       "      <td>26</td>\n",
       "      <td>0.568239</td>\n",
       "      <td>0.680938</td>\n",
       "      <td>0.769000</td>\n",
       "      <td>00:11</td>\n",
       "    </tr>\n",
       "    <tr>\n",
       "      <td>27</td>\n",
       "      <td>0.531177</td>\n",
       "      <td>0.717673</td>\n",
       "      <td>0.763000</td>\n",
       "      <td>00:11</td>\n",
       "    </tr>\n",
       "    <tr>\n",
       "      <td>28</td>\n",
       "      <td>0.482287</td>\n",
       "      <td>0.626037</td>\n",
       "      <td>0.803000</td>\n",
       "      <td>00:11</td>\n",
       "    </tr>\n",
       "    <tr>\n",
       "      <td>29</td>\n",
       "      <td>0.452085</td>\n",
       "      <td>0.617716</td>\n",
       "      <td>0.805100</td>\n",
       "      <td>00:11</td>\n",
       "    </tr>\n",
       "    <tr>\n",
       "      <td>30</td>\n",
       "      <td>0.412848</td>\n",
       "      <td>0.598112</td>\n",
       "      <td>0.811500</td>\n",
       "      <td>00:10</td>\n",
       "    </tr>\n",
       "    <tr>\n",
       "      <td>31</td>\n",
       "      <td>0.368743</td>\n",
       "      <td>0.611228</td>\n",
       "      <td>0.814700</td>\n",
       "      <td>00:11</td>\n",
       "    </tr>\n",
       "    <tr>\n",
       "      <td>32</td>\n",
       "      <td>0.333566</td>\n",
       "      <td>0.599652</td>\n",
       "      <td>0.818300</td>\n",
       "      <td>00:11</td>\n",
       "    </tr>\n",
       "    <tr>\n",
       "      <td>33</td>\n",
       "      <td>0.322459</td>\n",
       "      <td>0.595910</td>\n",
       "      <td>0.820900</td>\n",
       "      <td>00:11</td>\n",
       "    </tr>\n",
       "    <tr>\n",
       "      <td>34</td>\n",
       "      <td>0.304653</td>\n",
       "      <td>0.621743</td>\n",
       "      <td>0.815700</td>\n",
       "      <td>00:10</td>\n",
       "    </tr>\n",
       "    <tr>\n",
       "      <td>35</td>\n",
       "      <td>0.279162</td>\n",
       "      <td>0.633447</td>\n",
       "      <td>0.818700</td>\n",
       "      <td>00:11</td>\n",
       "    </tr>\n",
       "    <tr>\n",
       "      <td>36</td>\n",
       "      <td>0.134836</td>\n",
       "      <td>0.596489</td>\n",
       "      <td>0.840400</td>\n",
       "      <td>00:11</td>\n",
       "    </tr>\n",
       "    <tr>\n",
       "      <td>37</td>\n",
       "      <td>0.111997</td>\n",
       "      <td>0.619413</td>\n",
       "      <td>0.841300</td>\n",
       "      <td>00:11</td>\n",
       "    </tr>\n",
       "    <tr>\n",
       "      <td>38</td>\n",
       "      <td>0.092129</td>\n",
       "      <td>0.657082</td>\n",
       "      <td>0.839500</td>\n",
       "      <td>00:11</td>\n",
       "    </tr>\n",
       "    <tr>\n",
       "      <td>39</td>\n",
       "      <td>0.087609</td>\n",
       "      <td>0.674877</td>\n",
       "      <td>0.837900</td>\n",
       "      <td>00:11</td>\n",
       "    </tr>\n",
       "    <tr>\n",
       "      <td>40</td>\n",
       "      <td>0.073520</td>\n",
       "      <td>0.687783</td>\n",
       "      <td>0.838000</td>\n",
       "      <td>00:11</td>\n",
       "    </tr>\n",
       "    <tr>\n",
       "      <td>41</td>\n",
       "      <td>0.064133</td>\n",
       "      <td>0.703992</td>\n",
       "      <td>0.842100</td>\n",
       "      <td>00:11</td>\n",
       "    </tr>\n",
       "    <tr>\n",
       "      <td>42</td>\n",
       "      <td>0.056633</td>\n",
       "      <td>0.754142</td>\n",
       "      <td>0.837000</td>\n",
       "      <td>00:11</td>\n",
       "    </tr>\n",
       "    <tr>\n",
       "      <td>43</td>\n",
       "      <td>0.047990</td>\n",
       "      <td>0.781012</td>\n",
       "      <td>0.837100</td>\n",
       "      <td>00:10</td>\n",
       "    </tr>\n",
       "    <tr>\n",
       "      <td>44</td>\n",
       "      <td>0.039798</td>\n",
       "      <td>0.820266</td>\n",
       "      <td>0.836600</td>\n",
       "      <td>00:11</td>\n",
       "    </tr>\n",
       "    <tr>\n",
       "      <td>45</td>\n",
       "      <td>0.033581</td>\n",
       "      <td>0.831071</td>\n",
       "      <td>0.837600</td>\n",
       "      <td>00:11</td>\n",
       "    </tr>\n",
       "    <tr>\n",
       "      <td>46</td>\n",
       "      <td>0.033610</td>\n",
       "      <td>0.854664</td>\n",
       "      <td>0.838700</td>\n",
       "      <td>00:11</td>\n",
       "    </tr>\n",
       "    <tr>\n",
       "      <td>47</td>\n",
       "      <td>0.028004</td>\n",
       "      <td>0.881539</td>\n",
       "      <td>0.837500</td>\n",
       "      <td>00:11</td>\n",
       "    </tr>\n",
       "    <tr>\n",
       "      <td>48</td>\n",
       "      <td>0.024452</td>\n",
       "      <td>0.927879</td>\n",
       "      <td>0.836000</td>\n",
       "      <td>00:11</td>\n",
       "    </tr>\n",
       "    <tr>\n",
       "      <td>49</td>\n",
       "      <td>0.021753</td>\n",
       "      <td>0.923959</td>\n",
       "      <td>0.836900</td>\n",
       "      <td>00:11</td>\n",
       "    </tr>\n",
       "    <tr>\n",
       "      <td>50</td>\n",
       "      <td>0.019175</td>\n",
       "      <td>0.952458</td>\n",
       "      <td>0.836400</td>\n",
       "      <td>00:11</td>\n",
       "    </tr>\n",
       "    <tr>\n",
       "      <td>51</td>\n",
       "      <td>0.016552</td>\n",
       "      <td>0.968223</td>\n",
       "      <td>0.837200</td>\n",
       "      <td>00:11</td>\n",
       "    </tr>\n",
       "    <tr>\n",
       "      <td>52</td>\n",
       "      <td>0.014783</td>\n",
       "      <td>1.008033</td>\n",
       "      <td>0.836100</td>\n",
       "      <td>00:11</td>\n",
       "    </tr>\n",
       "    <tr>\n",
       "      <td>53</td>\n",
       "      <td>0.012134</td>\n",
       "      <td>1.006142</td>\n",
       "      <td>0.836200</td>\n",
       "      <td>00:11</td>\n",
       "    </tr>\n",
       "    <tr>\n",
       "      <td>54</td>\n",
       "      <td>0.014757</td>\n",
       "      <td>1.036540</td>\n",
       "      <td>0.834700</td>\n",
       "      <td>00:11</td>\n",
       "    </tr>\n",
       "    <tr>\n",
       "      <td>55</td>\n",
       "      <td>0.010933</td>\n",
       "      <td>1.054165</td>\n",
       "      <td>0.837100</td>\n",
       "      <td>00:11</td>\n",
       "    </tr>\n",
       "    <tr>\n",
       "      <td>56</td>\n",
       "      <td>0.011336</td>\n",
       "      <td>1.064378</td>\n",
       "      <td>0.838400</td>\n",
       "      <td>00:11</td>\n",
       "    </tr>\n",
       "    <tr>\n",
       "      <td>57</td>\n",
       "      <td>0.007465</td>\n",
       "      <td>1.087774</td>\n",
       "      <td>0.837400</td>\n",
       "      <td>00:11</td>\n",
       "    </tr>\n",
       "    <tr>\n",
       "      <td>58</td>\n",
       "      <td>0.009602</td>\n",
       "      <td>1.119154</td>\n",
       "      <td>0.835600</td>\n",
       "      <td>00:11</td>\n",
       "    </tr>\n",
       "    <tr>\n",
       "      <td>59</td>\n",
       "      <td>0.007901</td>\n",
       "      <td>1.125555</td>\n",
       "      <td>0.835000</td>\n",
       "      <td>00:11</td>\n",
       "    </tr>\n",
       "    <tr>\n",
       "      <td>60</td>\n",
       "      <td>0.007021</td>\n",
       "      <td>1.145402</td>\n",
       "      <td>0.837600</td>\n",
       "      <td>00:11</td>\n",
       "    </tr>\n",
       "    <tr>\n",
       "      <td>61</td>\n",
       "      <td>0.004709</td>\n",
       "      <td>1.151055</td>\n",
       "      <td>0.837100</td>\n",
       "      <td>00:11</td>\n",
       "    </tr>\n",
       "    <tr>\n",
       "      <td>62</td>\n",
       "      <td>0.003954</td>\n",
       "      <td>1.148400</td>\n",
       "      <td>0.837300</td>\n",
       "      <td>00:11</td>\n",
       "    </tr>\n",
       "    <tr>\n",
       "      <td>63</td>\n",
       "      <td>0.006668</td>\n",
       "      <td>1.149794</td>\n",
       "      <td>0.836600</td>\n",
       "      <td>00:11</td>\n",
       "    </tr>\n",
       "    <tr>\n",
       "      <td>64</td>\n",
       "      <td>0.007497</td>\n",
       "      <td>1.150002</td>\n",
       "      <td>0.836200</td>\n",
       "      <td>00:11</td>\n",
       "    </tr>\n",
       "    <tr>\n",
       "      <td>65</td>\n",
       "      <td>0.005134</td>\n",
       "      <td>1.156083</td>\n",
       "      <td>0.836200</td>\n",
       "      <td>00:11</td>\n",
       "    </tr>\n",
       "    <tr>\n",
       "      <td>66</td>\n",
       "      <td>0.004451</td>\n",
       "      <td>1.154475</td>\n",
       "      <td>0.836300</td>\n",
       "      <td>00:11</td>\n",
       "    </tr>\n",
       "    <tr>\n",
       "      <td>67</td>\n",
       "      <td>0.004148</td>\n",
       "      <td>1.150636</td>\n",
       "      <td>0.836900</td>\n",
       "      <td>00:11</td>\n",
       "    </tr>\n",
       "    <tr>\n",
       "      <td>68</td>\n",
       "      <td>0.004941</td>\n",
       "      <td>1.152599</td>\n",
       "      <td>0.836500</td>\n",
       "      <td>00:11</td>\n",
       "    </tr>\n",
       "    <tr>\n",
       "      <td>69</td>\n",
       "      <td>0.004680</td>\n",
       "      <td>1.157327</td>\n",
       "      <td>0.836200</td>\n",
       "      <td>00:11</td>\n",
       "    </tr>\n",
       "    <tr>\n",
       "      <td>70</td>\n",
       "      <td>0.004464</td>\n",
       "      <td>1.155099</td>\n",
       "      <td>0.836300</td>\n",
       "      <td>00:11</td>\n",
       "    </tr>\n",
       "    <tr>\n",
       "      <td>71</td>\n",
       "      <td>0.003942</td>\n",
       "      <td>1.160566</td>\n",
       "      <td>0.836100</td>\n",
       "      <td>00:11</td>\n",
       "    </tr>\n",
       "    <tr>\n",
       "      <td>72</td>\n",
       "      <td>0.004164</td>\n",
       "      <td>1.164353</td>\n",
       "      <td>0.836100</td>\n",
       "      <td>00:10</td>\n",
       "    </tr>\n",
       "    <tr>\n",
       "      <td>73</td>\n",
       "      <td>0.004988</td>\n",
       "      <td>1.163221</td>\n",
       "      <td>0.836300</td>\n",
       "      <td>00:11</td>\n",
       "    </tr>\n",
       "    <tr>\n",
       "      <td>74</td>\n",
       "      <td>0.004218</td>\n",
       "      <td>1.167906</td>\n",
       "      <td>0.836400</td>\n",
       "      <td>00:11</td>\n",
       "    </tr>\n",
       "    <tr>\n",
       "      <td>75</td>\n",
       "      <td>0.003796</td>\n",
       "      <td>1.167181</td>\n",
       "      <td>0.837000</td>\n",
       "      <td>00:11</td>\n",
       "    </tr>\n",
       "  </tbody>\n",
       "</table>"
      ],
      "text/plain": [
       "<IPython.core.display.HTML object>"
      ]
     },
     "metadata": {},
     "output_type": "display_data"
    },
    {
     "name": "stdout",
     "output_type": "stream",
     "text": [
      "Better model found at epoch 1 with accuracy value: 0.12890000641345978.\n",
      "Better model found at epoch 9 with accuracy value: 0.149399995803833.\n",
      "Better model found at epoch 10 with accuracy value: 0.210999995470047.\n",
      "Better model found at epoch 11 with accuracy value: 0.23190000653266907.\n",
      "Better model found at epoch 12 with accuracy value: 0.2799000144004822.\n",
      "Better model found at epoch 13 with accuracy value: 0.3183000087738037.\n",
      "Better model found at epoch 14 with accuracy value: 0.37560001015663147.\n",
      "Better model found at epoch 15 with accuracy value: 0.427700012922287.\n",
      "Better model found at epoch 16 with accuracy value: 0.46070000529289246.\n",
      "Better model found at epoch 17 with accuracy value: 0.49900001287460327.\n",
      "Better model found at epoch 18 with accuracy value: 0.5827000141143799.\n",
      "Better model found at epoch 19 with accuracy value: 0.6371999979019165.\n",
      "Better model found at epoch 20 with accuracy value: 0.6743000149726868.\n",
      "Better model found at epoch 21 with accuracy value: 0.6872000098228455.\n",
      "Better model found at epoch 22 with accuracy value: 0.6976000070571899.\n",
      "Better model found at epoch 23 with accuracy value: 0.7608000040054321.\n",
      "Better model found at epoch 24 with accuracy value: 0.7620000243186951.\n",
      "Better model found at epoch 26 with accuracy value: 0.7689999938011169.\n",
      "Better model found at epoch 28 with accuracy value: 0.8029999732971191.\n",
      "Better model found at epoch 29 with accuracy value: 0.8051000237464905.\n",
      "Better model found at epoch 30 with accuracy value: 0.8115000128746033.\n",
      "Better model found at epoch 31 with accuracy value: 0.8147000074386597.\n",
      "Better model found at epoch 32 with accuracy value: 0.8183000087738037.\n",
      "Better model found at epoch 33 with accuracy value: 0.820900022983551.\n",
      "Better model found at epoch 36 with accuracy value: 0.840399980545044.\n",
      "Better model found at epoch 37 with accuracy value: 0.8413000106811523.\n",
      "Better model found at epoch 41 with accuracy value: 0.8421000242233276.\n"
     ]
    }
   ],
   "source": [
    "lr_epochs = [(5, 1e-4),(30, 1e-2), (25, 1e-3), (15, 1e-4)]\n",
    "learn = fit_lrs(learn, lr_epochs, wd=5e-4)"
   ]
  },
  {
   "cell_type": "code",
   "execution_count": 66,
   "metadata": {},
   "outputs": [
    {
     "data": {
      "image/png": "[encoded data removed]",
      "text/plain": [
       "<Figure size 432x288 with 1 Axes>"
      ]
     },
     "metadata": {
      "needs_background": "light"
     },
     "output_type": "display_data"
    }
   ],
   "source": [
    "learn.recorder.plot_losses()"
   ]
  },
  {
   "cell_type": "markdown",
   "metadata": {},
   "source": [
    "### VGG Analysis"
   ]
  },
  {
   "cell_type": "code",
   "execution_count": 9,
   "metadata": {},
   "outputs": [
    {
     "data": {
      "text/html": [
       "<div>\n",
       "<style scoped>\n",
       "    .dataframe tbody tr th:only-of-type {\n",
       "        vertical-align: middle;\n",
       "    }\n",
       "\n",
       "    .dataframe tbody tr th {\n",
       "        vertical-align: top;\n",
       "    }\n",
       "\n",
       "    .dataframe thead th {\n",
       "        text-align: right;\n",
       "    }\n",
       "</style>\n",
       "<table border=\"1\" class=\"dataframe\">\n",
       "  <thead>\n",
       "    <tr style=\"text-align: right;\">\n",
       "      <th></th>\n",
       "      <th>VGG Paper top-1 val. error (%)</th>\n",
       "      <th>Implementation top-1 val. error (%)</th>\n",
       "    </tr>\n",
       "  </thead>\n",
       "  <tbody>\n",
       "    <tr>\n",
       "      <th>0</th>\n",
       "      <td>25.5</td>\n",
       "      <td>0.158</td>\n",
       "    </tr>\n",
       "  </tbody>\n",
       "</table>\n",
       "</div>"
      ],
      "text/plain": [
       "   VGG Paper top-1 val. error (%)  Implementation top-1 val. error (%)\n",
       "0                            25.5                                0.158"
      ]
     },
     "execution_count": 9,
     "metadata": {},
     "output_type": "execute_result"
    }
   ],
   "source": [
    "pd.DataFrame({'VGG Paper top-1 val. error (%)': [25.5], 'Implementation top-1 val. error (%)': [1-.842]})"
   ]
  },
  {
   "cell_type": "markdown",
   "metadata": {},
   "source": [
    "I only used the original optimizer, momentum, lr schedule, weight decay, architecture, initializations, and so on, from the original paper in 2015, so then:\n",
    "\n",
    "<b>Why did this do so much better?</b>\n",
    "- better hardware optimizations built-in with Nvidia\n",
    "- fastai very opinionated, probably has optimizations I haven't discovered yet\n",
    "- Most importantly, CIFAR-10 a much easier dataset than ImageNet and has smaller images\n",
    "\n",
    "<b>Why did it not perform even better?</b>\n",
    "- CIFAR-10 dataset pretty small\n",
    "- hyperparameters tuned for ImageNet not CIFAR-10\n",
    "- CIFAR-10 images are much lower quality\n",
    "- batch size too high\n",
    "- no RGB color shift (PCA color augmentation)\n",
    "- no scale jittering\n",
    "- obvious, but could have used all modern improvements (batch norm, adamw, 1cycle, etc.)"
   ]
  },
  {
   "cell_type": "markdown",
   "metadata": {},
   "source": [
    "## NN v7"
   ]
  },
  {
   "cell_type": "code",
   "execution_count": 15,
   "metadata": {},
   "outputs": [],
   "source": [
    "??conv"
   ]
  },
  {
   "cell_type": "code",
   "execution_count": null,
   "metadata": {
    "scrolled": true
   },
   "outputs": [],
   "source": [
    "def ResBlock(nn.Module):\n",
    "    def __init__(self, ic, oc, l):\n",
    "        super().__init__()\n",
    "        conv(ic, oc)\n",
    "        \n",
    "        \n",
    "    def forward(x):\n",
    "        return self.layers(x)"
   ]
  }
 ],
 "metadata": {
  "kernelspec": {
   "display_name": "Python 3",
   "language": "python",
   "name": "python3"
  },
  "language_info": {
   "codemirror_mode": {
    "name": "ipython",
    "version": 3
   },
   "file_extension": ".py",
   "mimetype": "text/x-python",
   "name": "python",
   "nbconvert_exporter": "python",
   "pygments_lexer": "ipython3",
   "version": "3.7.2"
  }
 },
 "nbformat": 4,
 "nbformat_minor": 2
}
